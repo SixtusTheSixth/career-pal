{
 "cells": [
  {
   "cell_type": "code",
   "execution_count": 1,
   "metadata": {},
   "outputs": [
    {
     "name": "stderr",
     "output_type": "stream",
     "text": [
      "c:\\Users\\jebcu\\anaconda3\\envs\\databricks\\lib\\site-packages\\tqdm\\auto.py:21: TqdmWarning: IProgress not found. Please update jupyter and ipywidgets. See https://ipywidgets.readthedocs.io/en/stable/user_install.html\n",
      "  from .autonotebook import tqdm as notebook_tqdm\n"
     ]
    }
   ],
   "source": [
    "from transformers import AutoTokenizer, AutoModelForCausalLM, pipeline\n",
    "import torch\n",
    "from langchain import PromptTemplate\n",
    "from langchain.llms import HuggingFacePipeline\n",
    "from langchain.chains.question_answering import load_qa_chain\n",
    "from langchain.embeddings import HuggingFaceEmbeddings\n",
    "from langchain.vectorstores import Chroma"
   ]
  },
  {
   "cell_type": "code",
   "execution_count": 2,
   "metadata": {},
   "outputs": [
    {
     "data": {
      "text/plain": [
       "True"
      ]
     },
     "execution_count": 2,
     "metadata": {},
     "output_type": "execute_result"
    }
   ],
   "source": [
    "torch.cuda.is_available()"
   ]
  },
  {
   "cell_type": "code",
   "execution_count": 3,
   "metadata": {},
   "outputs": [
    {
     "name": "stderr",
     "output_type": "stream",
     "text": [
      "Using embedded DuckDB with persistence: data will be stored in: C:\\Users\\jebcu\\Desktop\\SYTYCH_Hackathon\\workplace_db\n"
     ]
    }
   ],
   "source": [
    "workplace_vector_db_path = \"C:\\\\Users\\\\jebcu\\\\Desktop\\\\SYTYCH_Hackathon\\\\workplace_db\"\n",
    " \n",
    "hf_embed = HuggingFaceEmbeddings(model_name=\"sentence-transformers/all-mpnet-base-v2\")\n",
    "db = Chroma(collection_name=\"workplace_docs\", embedding_function=hf_embed, persist_directory=workplace_vector_db_path)"
   ]
  },
  {
   "cell_type": "code",
   "execution_count": 4,
   "metadata": {},
   "outputs": [
    {
     "name": "stdout",
     "output_type": "stream",
     "text": [
      "Right now I am writing a cover letter to apply for a job, some people tell me cover letters should be short while other people tell me a cover letter should take up a page. Anyone who works in HR knows which one is the truth? Thanks\n",
      "\n",
      "\n",
      "I don't work in HR but my opinion is that the cover letter should be to the point in terms of showing how great a fit you are for the position by citing specific examples so that you demonstrate that you believe you can do the job well.  The idea is to get the interview to further discuss specifics to validate the initial match.  While a cover letter may be a page on the high end if one has more than a handful of points to make, the key is to keep the fluff to a minimum in the cover letter and demonstrate how you fit this position so well.\n",
      "\n",
      "I figured out I may as well send a .PDF file featuring my CV and Cover Letter. It sounds simpler to handle on the other side. The cover letter begins on a new page so when it's printed, it looks like 2 different documents were received.\n",
      "If they are just going to visualize it, they'd get the first impression with CV and then simply check the next page to find the cover letter.\n",
      "Is it wrong? I can feel it's not a standard practice but I have no clue why it would be regarded as bad. I still personalize the cover letter for each company.\n",
      "\n",
      "\n",
      "No, don't do that. If you're applying by email, copy/paste a base cover-letter into an email and adjust it for your audience. If you're applying on paper, put it at the front.\n",
      "Your cover letter should tell me exactly why I should even bother to double-click to open your CV. It should tell me exactly why I shouldn't bother clicking on anyone else's. It should tell me why you're awesome and, coincidentally, a perfect fit for the role I'm trying to fill.\n",
      "Then, when I think, \"Oh my, I really have to know more about this person.\" I should open your CV and see something that you're sending to every job. It can be tailored, but if it feels tailored then I'll assume I'm the only person who's ever seen this bag of lies. Let the tailoring be in the cover letter. Make it the first thing I see. Blow me away before I even start.\n",
      "\n"
     ]
    }
   ],
   "source": [
    "def get_similar_docs(question, similar_doc_count):\n",
    "  return db.similarity_search(question, k=similar_doc_count)\n",
    " \n",
    "# Let's test it with blackberries:\n",
    "for doc in get_similar_docs(\"how to write a cover letter?\", 2):\n",
    "  print(doc.page_content)"
   ]
  },
  {
   "cell_type": "code",
   "execution_count": 5,
   "metadata": {},
   "outputs": [],
   "source": [
    "def build_qa_chain():\n",
    "  torch.cuda.empty_cache()\n",
    "  model_name = \"databricks/dolly-v2-7b\" # can use dolly-v2-3b or dolly-v2-7b for smaller model and faster inferences.\n",
    " \n",
    "  # Increase max_new_tokens for a longer response\n",
    "  # Other settings might give better results! Play around\n",
    "  instruct_pipeline = pipeline(model=model_name, torch_dtype=torch.bfloat16, trust_remote_code=True, device_map=\"auto\", \n",
    "                               return_full_text=True, max_new_tokens=256, top_p=0.95, top_k=50)\n",
    "  # Note: if you use dolly 12B or smaller model but a GPU with less than 24GB RAM, use 8bit. This requires %pip install bitsandbytes\n",
    "  # instruct_pipeline = pipeline(model=model_name, load_in_8bit=True, trust_remote_code=True, device_map=\"auto\")\n",
    "  # For GPUs without bfloat16 support, like the T4 or V100, use torch_dtype=torch.float16 below\n",
    "  # model = AutoModelForCausalLM.from_pretrained(model_name, device_map=\"auto\", torch_dtype=torch.float16, trust_remote_code=True)\n",
    " \n",
    "  # Defining our prompt content.\n",
    "  # langchain will load our similar documents as {context}\n",
    "  template = \"\"\"Below is an instruction that describes a task. Write a response that appropriately completes the request.\n",
    " \n",
    "  Instruction: \n",
    "  You are applying for a job at a company. You need to respond to a question during the application process. \n",
    "  Use only information in the following paragraphs to answer the question at the end. Explain the answer with reference to these paragraphs. If you don't know, say that you do not know.\n",
    " \n",
    "  {context}\n",
    " \n",
    "  Question: {question}\n",
    " \n",
    "  Response:\n",
    "  \"\"\"\n",
    "  prompt = PromptTemplate(input_variables=['context', 'question'], template=template)\n",
    " \n",
    "  hf_pipe = HuggingFacePipeline(pipeline=instruct_pipeline)\n",
    "  # Set verbose=True to see the full prompt:\n",
    "  return load_qa_chain(llm=hf_pipe, chain_type=\"stuff\", prompt=prompt, verbose=True)\n"
   ]
  },
  {
   "cell_type": "code",
   "execution_count": 6,
   "metadata": {},
   "outputs": [],
   "source": [
    "# Building the chain will load Dolly and can take several minutes depending on the model size\n",
    "qa_chain = build_qa_chain()"
   ]
  },
  {
   "cell_type": "code",
   "execution_count": 7,
   "metadata": {},
   "outputs": [],
   "source": [
    "from IPython.display import display, HTML"
   ]
  },
  {
   "cell_type": "code",
   "execution_count": 8,
   "metadata": {},
   "outputs": [],
   "source": [
    "def displayHTML(html):\n",
    "  display(HTML(html))"
   ]
  },
  {
   "cell_type": "code",
   "execution_count": 9,
   "metadata": {},
   "outputs": [],
   "source": [
    "def answer_question(question):\n",
    "  similar_docs = get_similar_docs(question, similar_doc_count=2)\n",
    "  result = qa_chain({\"input_documents\": similar_docs, \"question\": question})\n",
    "  result_html = f\"<p><blockquote style=\\\"font-size:24\\\">{question}</blockquote></p>\"\n",
    "  result_html += f\"<p><blockquote style=\\\"font-size:18px\\\">{result['output_text']}</blockquote></p>\"\n",
    "  result_html += \"<p><hr/></p>\"\n",
    "  for d in result[\"input_documents\"]:\n",
    "    source_id = d.metadata[\"source\"]\n",
    "    result_html += f\"<p><blockquote>{d.page_content}<br/>(Source: <a href=\\\"https://workplace.stackexchange.com/a/{source_id}\\\">{source_id}</a>)</blockquote></p>\"\n",
    "  display(HTML(result_html))"
   ]
  },
  {
   "cell_type": "code",
   "execution_count": 10,
   "metadata": {},
   "outputs": [
    {
     "name": "stdout",
     "output_type": "stream",
     "text": [
      "\n",
      "\n",
      "\u001b[1m> Entering new StuffDocumentsChain chain...\u001b[0m\n",
      "\n",
      "\n",
      "\u001b[1m> Entering new LLMChain chain...\u001b[0m\n",
      "Prompt after formatting:\n",
      "\u001b[32;1m\u001b[1;3mBelow is an instruction that describes a task. Write a response that appropriately completes the request.\n",
      " \n",
      "  Instruction: \n",
      "  You are applying for a job at a company. You need to respond to a question during the application process. \n",
      "  Use only information in the following paragraphs to answer the question at the end. Explain the answer with reference to these paragraphs. If you don't know, say that you do not know.\n",
      " \n",
      "  I have been trying to write this section of \"Developmental Areas\" in a employment form given by my organization. This is the place where I need to cite a few of my weaknesses.\n",
      "I actually want to state that \"I pay attention to detail in every aspect. (which is actually a positive point). But sometimes in doing so it tends to getting my work completed beyond normal time, meaning my over perfectionism tends to create issues of delay in project completion.\"\n",
      "Now I would like to state that point in a direct manner without being overtly harsh and honest. How can I explain this clearly without making myself look bad/exaggerating the issue?\n",
      "\n",
      "\n",
      "I would focus on areas where you want to grow or receive training.  These do not need to be weaknesses.  Rather areas where you do not have the knowledge or training you would like. \n",
      "ie: I would like to be trained on the new ACME 2012 EOW Solutions package.  You can also include certifications, licencing, or professional development that would help you grow in your field.\n",
      "If you have a path you would like to take to address your \"Attention to Detail\" issue then you may want to include it.  However including it in this form will likely hinder your career growth. Prospective managers in the future are liable to look at the issue and even if you have made corrections it is likely to be used against you for your entire career with the company.  Even though the document is an employment form do not assume that it will not be used in determining future assignments.\n",
      "\n",
      "\n",
      "Once somebody told me \"never say 'I don't know', never\".\n",
      "However, sometimes I really find myself wanting to say \"I do not know the answer to your question\", or \"I can't do this\". Some other times, I would like to openly say \"I am not happy with my recent results, I can do better than this\".\n",
      "My question is: in the real world, should one ever openly discuss his limitations or fallacies? Or should one focus to sell the strong sides and hide all weaknesses?\n",
      "\n",
      "\n",
      "There's nothing wrong with admitting you don't know something. I'm a Sysadmin but there was a time where I didn't know what a SAN was. Not knowing is ok. Not willing to change that? That's where your issue can come about. Instead of saying \"I don't know\", say something like \"I don't know how to do that but I'm happy to figure it out.\"\n",
      "As for saying you can't do something, I think it depends on how you say it. If you're saying you can't do it because you don't know how, see above. If you're saying you can't do something because you don't have time, exactly explain to your requester that you're busy and offer a time where you can fit their request in, if possible. \n",
      "\n",
      " \n",
      "  Question: What are your weakenesses?\n",
      " \n",
      "  Response:\n",
      "  \u001b[0m\n",
      "\n",
      "\u001b[1m> Finished chain.\u001b[0m\n",
      "\n",
      "\u001b[1m> Finished chain.\u001b[0m\n"
     ]
    },
    {
     "data": {
      "text/html": [
       "<p><blockquote style=\"font-size:24\">What are your weakenesses?</blockquote></p><p><blockquote style=\"font-size:18px\">\n",
       "My weaknesses are my attention to detail. I actually want to state that \"I pay attention to detail in every aspect. (which is actually a positive point). But sometimes in doing so it tends to getting my work completed beyond normal time, meaning my over perfectionism tends to create issues of delay in project completion.</blockquote></p><p><hr/></p><p><blockquote>I have been trying to write this section of \"Developmental Areas\" in a employment form given by my organization. This is the place where I need to cite a few of my weaknesses.\n",
       "I actually want to state that \"I pay attention to detail in every aspect. (which is actually a positive point). But sometimes in doing so it tends to getting my work completed beyond normal time, meaning my over perfectionism tends to create issues of delay in project completion.\"\n",
       "Now I would like to state that point in a direct manner without being overtly harsh and honest. How can I explain this clearly without making myself look bad/exaggerating the issue?\n",
       "\n",
       "\n",
       "I would focus on areas where you want to grow or receive training.  These do not need to be weaknesses.  Rather areas where you do not have the knowledge or training you would like. \n",
       "ie: I would like to be trained on the new ACME 2012 EOW Solutions package.  You can also include certifications, licencing, or professional development that would help you grow in your field.\n",
       "If you have a path you would like to take to address your \"Attention to Detail\" issue then you may want to include it.  However including it in this form will likely hinder your career growth. Prospective managers in the future are liable to look at the issue and even if you have made corrections it is likely to be used against you for your entire career with the company.  Even though the document is an employment form do not assume that it will not be used in determining future assignments.\n",
       "<br/>(Source: <a href=\"https://workplace.stackexchange.com/a/2271\">2271</a>)</blockquote></p><p><blockquote>Once somebody told me \"never say 'I don't know', never\".\n",
       "However, sometimes I really find myself wanting to say \"I do not know the answer to your question\", or \"I can't do this\". Some other times, I would like to openly say \"I am not happy with my recent results, I can do better than this\".\n",
       "My question is: in the real world, should one ever openly discuss his limitations or fallacies? Or should one focus to sell the strong sides and hide all weaknesses?\n",
       "\n",
       "\n",
       "There's nothing wrong with admitting you don't know something. I'm a Sysadmin but there was a time where I didn't know what a SAN was. Not knowing is ok. Not willing to change that? That's where your issue can come about. Instead of saying \"I don't know\", say something like \"I don't know how to do that but I'm happy to figure it out.\"\n",
       "As for saying you can't do something, I think it depends on how you say it. If you're saying you can't do it because you don't know how, see above. If you're saying you can't do something because you don't have time, exactly explain to your requester that you're busy and offer a time where you can fit their request in, if possible. \n",
       "<br/>(Source: <a href=\"https://workplace.stackexchange.com/a/48906\">48906</a>)</blockquote></p>"
      ],
      "text/plain": [
       "<IPython.core.display.HTML object>"
      ]
     },
     "metadata": {},
     "output_type": "display_data"
    }
   ],
   "source": [
    "answer_question(\"What are your weakenesses?\")"
   ]
  },
  {
   "cell_type": "code",
   "execution_count": 11,
   "metadata": {},
   "outputs": [
    {
     "name": "stdout",
     "output_type": "stream",
     "text": [
      "\n",
      "\n",
      "\u001b[1m> Entering new StuffDocumentsChain chain...\u001b[0m\n",
      "\n",
      "\n",
      "\u001b[1m> Entering new LLMChain chain...\u001b[0m\n",
      "Prompt after formatting:\n",
      "\u001b[32;1m\u001b[1;3mBelow is an instruction that describes a task. Write a response that appropriately completes the request.\n",
      " \n",
      "  Instruction: \n",
      "  You are applying for a job at a company. You need to respond to a question during the application process. \n",
      "  Use only information in the following paragraphs to answer the question at the end. Explain the answer with reference to these paragraphs. If you don't know, say that you do not know.\n",
      " \n",
      "  Right now I am writing a cover letter to apply for a job, some people tell me cover letters should be short while other people tell me a cover letter should take up a page. Anyone who works in HR knows which one is the truth? Thanks\n",
      "\n",
      "\n",
      "I don't work in HR but my opinion is that the cover letter should be to the point in terms of showing how great a fit you are for the position by citing specific examples so that you demonstrate that you believe you can do the job well.  The idea is to get the interview to further discuss specifics to validate the initial match.  While a cover letter may be a page on the high end if one has more than a handful of points to make, the key is to keep the fluff to a minimum in the cover letter and demonstrate how you fit this position so well.\n",
      "\n",
      "\n",
      "I'm applying for an internship position as front-end engineer, and I'd like to make my résumé stand out a bit. I'm not going to add colors or drawings, I'm not even a designer, I'd just like to leave it light and not too formal. It's a Google-y type company in the sense that they provide video games for employees, free snacks and the like. It wouldn't be a CV filled with bad puns, I was just thinking of adding \"If I could make this PDF responsive, I totally would\" type of jokes. I would still list my qualifications formally and present all the usual data you see on a regular résumé.\n",
      "\n",
      "\n",
      "I personally put statements like that in the cover letter, which is customized for each company/position applied for. It's just a personal choice, based on my perception of what a cover letter does, and what a resume does. The cover letter summarizes the high points of your resume, but also mixes in a little bit about you. Your cover letter can be what gets your resume chosen to be read. Your resume lists off: this is what I can do, this is what I know, this is a more complete list of my skillset and past experience. Your resume can be what gets you interviewed.\n",
      "(Also: if the company website has some humor/casual content, then you will definitely be putting yourself on their wavelength by including a comment like the one you mentioned. But if the company site, and in particular the careers/about section, tends to sound more formal...try and go closer to that voice.)\n",
      "\n",
      " \n",
      "  Question: Write a cover letter for a job application.\n",
      " \n",
      "  Response:\n",
      "  \u001b[0m\n",
      "\n",
      "\u001b[1m> Finished chain.\u001b[0m\n",
      "\n",
      "\u001b[1m> Finished chain.\u001b[0m\n"
     ]
    },
    {
     "data": {
      "text/html": [
       "<p><blockquote style=\"font-size:24\">Write a cover letter for a job application.</blockquote></p><p><blockquote style=\"font-size:18px\">\n",
       "Hi, \n",
       "\n",
       "I am applying for a job at Company, and I’m excited to submit my application. As you can see from my Résumé, I’ve always been passionate about technology, and am eager to put that expertise to work for you. \n",
       "\n",
       "As you can also see from my Résumé, my undergraduate degree is in Economics; my plan is to pursue a Masters degree in something related to technology, like IT, Economics, Computer Science, etc. As you may have heard, people who have multiple degrees in their field of study are much more likely to be hired for those positions. This goes to show that passion and diversity of thought can be just as important, if not more so, than a traditional “coding background” in today’s technology workforce. \n",
       "\n",
       "I’m very excited by the opportunity that this position would offer me, and I’m looking forward to speaking with you about it further. \n",
       "\n",
       "Thank you,</blockquote></p><p><hr/></p><p><blockquote>Right now I am writing a cover letter to apply for a job, some people tell me cover letters should be short while other people tell me a cover letter should take up a page. Anyone who works in HR knows which one is the truth? Thanks\n",
       "\n",
       "\n",
       "I don't work in HR but my opinion is that the cover letter should be to the point in terms of showing how great a fit you are for the position by citing specific examples so that you demonstrate that you believe you can do the job well.  The idea is to get the interview to further discuss specifics to validate the initial match.  While a cover letter may be a page on the high end if one has more than a handful of points to make, the key is to keep the fluff to a minimum in the cover letter and demonstrate how you fit this position so well.\n",
       "<br/>(Source: <a href=\"https://workplace.stackexchange.com/a/7245\">7245</a>)</blockquote></p><p><blockquote>I'm applying for an internship position as front-end engineer, and I'd like to make my résumé stand out a bit. I'm not going to add colors or drawings, I'm not even a designer, I'd just like to leave it light and not too formal. It's a Google-y type company in the sense that they provide video games for employees, free snacks and the like. It wouldn't be a CV filled with bad puns, I was just thinking of adding \"If I could make this PDF responsive, I totally would\" type of jokes. I would still list my qualifications formally and present all the usual data you see on a regular résumé.\n",
       "\n",
       "\n",
       "I personally put statements like that in the cover letter, which is customized for each company/position applied for. It's just a personal choice, based on my perception of what a cover letter does, and what a resume does. The cover letter summarizes the high points of your resume, but also mixes in a little bit about you. Your cover letter can be what gets your resume chosen to be read. Your resume lists off: this is what I can do, this is what I know, this is a more complete list of my skillset and past experience. Your resume can be what gets you interviewed.\n",
       "(Also: if the company website has some humor/casual content, then you will definitely be putting yourself on their wavelength by including a comment like the one you mentioned. But if the company site, and in particular the careers/about section, tends to sound more formal...try and go closer to that voice.)\n",
       "<br/>(Source: <a href=\"https://workplace.stackexchange.com/a/27760\">27760</a>)</blockquote></p>"
      ],
      "text/plain": [
       "<IPython.core.display.HTML object>"
      ]
     },
     "metadata": {},
     "output_type": "display_data"
    }
   ],
   "source": [
    "answer_question(\"Write a cover letter for a job application.\")"
   ]
  },
  {
   "cell_type": "code",
   "execution_count": null,
   "metadata": {},
   "outputs": [],
   "source": []
  }
 ],
 "metadata": {
  "kernelspec": {
   "display_name": "venv",
   "language": "python",
   "name": "python3"
  },
  "language_info": {
   "codemirror_mode": {
    "name": "ipython",
    "version": 3
   },
   "file_extension": ".py",
   "mimetype": "text/x-python",
   "name": "python",
   "nbconvert_exporter": "python",
   "pygments_lexer": "ipython3",
   "version": "3.9.16"
  },
  "orig_nbformat": 4
 },
 "nbformat": 4,
 "nbformat_minor": 2
}
