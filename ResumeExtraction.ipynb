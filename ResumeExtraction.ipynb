{
 "cells": [
  {
   "cell_type": "code",
   "execution_count": null,
   "id": "b31207ec",
   "metadata": {},
   "outputs": [],
   "source": [
    "import docx2txt\n",
    "import nltk\n",
    "import requests"
   ]
  },
  {
   "cell_type": "code",
   "execution_count": null,
   "id": "4c7b480b",
   "metadata": {},
   "outputs": [],
   "source": [
    "#skills\n",
    "nltk.download('stopwords')\n",
    "nltk.download('punkt')\n",
    "\n",
    "\n",
    " \n",
    "def extract_text_from_docx(docx_path):\n",
    "    txt = docx2txt.process(docx_path)\n",
    "    if txt:\n",
    "        return txt.replace('\\t', ' ')\n",
    "    return None"
   ]
  },
  {
   "cell_type": "code",
   "execution_count": null,
   "id": "6be97fba",
   "metadata": {},
   "outputs": [],
   "source": [
    "def skill_exists(skill):\n",
    "    url = f'https://api.apilayer.com/skills?q={skill}&amp;count=1'\n",
    "    headers = {'apikey': 'l2BFkm2hY9qeQT37xaCB1rdyeWUnY5S1'}\n",
    "    response = requests.request('GET', url, headers=headers)\n",
    "    result = response.json()\n",
    " \n",
    "    if response.status_code == 200:\n",
    "        return len(result) > 0 and result[0].lower() == skill.lower()\n",
    "    raise Exception(result.get('message'))"
   ]
  },
  {
   "cell_type": "code",
   "execution_count": null,
   "id": "2e31bb9b",
   "metadata": {},
   "outputs": [],
   "source": [
    "def extract_skills(input_text):\n",
    "    stop_words = set(nltk.corpus.stopwords.words('english'))\n",
    "    word_tokens = nltk.tokenize.word_tokenize(input_text)\n",
    " \n",
    "    # remove the stop words\n",
    "    filtered_tokens = [w for w in word_tokens if w not in stop_words]\n",
    " \n",
    "    # remove the punctuation\n",
    "    filtered_tokens = [w for w in word_tokens if w.isalpha()]\n",
    " \n",
    "    # generate bigrams and trigrams (such as artificial intelligence)\n",
    "    bigrams_trigrams = list(map(' '.join, nltk.everygrams(filtered_tokens, 2, 3)))\n",
    " \n",
    "    # we create a set to keep the results in.\n",
    "    found_skills = set()\n",
    "    #print(found_skills)\n",
    " \n",
    "    # we search for each token in our skills database\n",
    "    for token in filtered_tokens:\n",
    "        if skill_exists(token.lower()):\n",
    "            print(token)\n",
    "            found_skills.add(token.lower())\n",
    " \n",
    "    # we search for each bigram and trigram in our skills database\n",
    "    for ngram in bigrams_trigrams:\n",
    "        if skill_exists(ngram.lower()):\n",
    "            print(ngram)\n",
    "            found_skills.add(ngram.lower())\n",
    " \n",
    "    return found_skills"
   ]
  },
  {
   "cell_type": "code",
   "execution_count": null,
   "id": "aa4bbe07",
   "metadata": {},
   "outputs": [],
   "source": []
  },
  {
   "cell_type": "code",
   "execution_count": null,
   "id": "f56a33db",
   "metadata": {},
   "outputs": [],
   "source": [
    "text = extract_text_from_docx('resume_1.docx')\n"
   ]
  },
  {
   "cell_type": "code",
   "execution_count": null,
   "id": "939fc5de",
   "metadata": {
    "scrolled": true
   },
   "outputs": [],
   "source": [
    "skills = extract_skills(text)\n",
    "#print(skills) "
   ]
  },
  {
   "cell_type": "code",
   "execution_count": null,
   "id": "5ffd212a",
   "metadata": {},
   "outputs": [],
   "source": [
    "print(skills)"
   ]
  },
  {
   "cell_type": "code",
   "execution_count": null,
   "id": "8f8d181f",
   "metadata": {},
   "outputs": [],
   "source": [
    "#education\n",
    "nltk.download('averaged_perceptron_tagger')\n",
    "nltk.download('maxent_ne_chunker')\n",
    "nltk.download('words')\n"
   ]
  },
  {
   "cell_type": "code",
   "execution_count": null,
   "id": "56d0cb2a",
   "metadata": {},
   "outputs": [],
   "source": [
    "RESERVED_WORDS = [\n",
    "    'school',\n",
    "    'high school',\n",
    "    'college',\n",
    "    'univers',\n",
    "    'university',\n",
    "    'academy',\n",
    "    'faculty',\n",
    "    'institute',\n",
    "    'polytechnic',\n",
    "    'certificate',\n",
    "    'undergraduate',\n",
    "    'graduate',\n",
    "    'phd'\n",
    "]\n",
    " "
   ]
  },
  {
   "cell_type": "code",
   "execution_count": null,
   "id": "93444fc6",
   "metadata": {},
   "outputs": [],
   "source": [
    "def extract_education(input_text):\n",
    "    organizations = []\n",
    " \n",
    "    # first get all the organization names using nltk\n",
    "    for sent in nltk.sent_tokenize(input_text):\n",
    "        for chunk in nltk.ne_chunk(nltk.pos_tag(nltk.word_tokenize(sent))):\n",
    "            if hasattr(chunk, 'label') and chunk.label() == 'ORGANIZATION':\n",
    "                organizations.append(' '.join(c[0] for c in chunk.leaves()))\n",
    "    print(organizations)\n",
    "    # we search for each bigram and trigram for reserved words\n",
    "    # (college, university etc...)\n",
    "    education = set()\n",
    "    for org in organizations:\n",
    "        for word in RESERVED_WORDS:\n",
    "            if org.lower().find(word) >= 0:\n",
    "                education.add(org)\n",
    " \n",
    "    return education"
   ]
  },
  {
   "cell_type": "code",
   "execution_count": null,
   "id": "579506fd",
   "metadata": {},
   "outputs": [],
   "source": [
    "education_information = extract_education(text)"
   ]
  },
  {
   "cell_type": "code",
   "execution_count": null,
   "id": "8b70828d",
   "metadata": {},
   "outputs": [],
   "source": [
    "print(education_information)"
   ]
  },
  {
   "cell_type": "code",
   "execution_count": null,
   "id": "2eca96b5",
   "metadata": {},
   "outputs": [],
   "source": []
  }
 ],
 "metadata": {
  "kernelspec": {
   "display_name": "Python 3 (ipykernel)",
   "language": "python",
   "name": "python3"
  },
  "language_info": {
   "codemirror_mode": {
    "name": "ipython",
    "version": 3
   },
   "file_extension": ".py",
   "mimetype": "text/x-python",
   "name": "python",
   "nbconvert_exporter": "python",
   "pygments_lexer": "ipython3",
   "version": "3.9.12"
  }
 },
 "nbformat": 4,
 "nbformat_minor": 5
}
